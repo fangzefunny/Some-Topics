{
 "cells": [
  {
   "cell_type": "markdown",
   "metadata": {},
   "source": [
    "# Three correlations coefficient"
   ]
  },
  {
   "cell_type": "code",
   "execution_count": 1,
   "metadata": {},
   "outputs": [],
   "source": [
    "import numpy as np\n",
    "import pandas as pd \n",
    "import seaborn as sns \n",
    "\n",
    "import matplotlib.pyplot as plt \n",
    "%matplotlib inline\n",
    "%config InlineBackend.figure_format='retina'\n",
    "\n",
    "from utils.viz import viz \n",
    "viz.get_style()"
   ]
  },
  {
   "cell_type": "code",
   "execution_count": 51,
   "metadata": {},
   "outputs": [],
   "source": [
    "# data \n",
    "\n",
    "x = pd.Series([1, 2, 3, 4, 5, 6])\n",
    "y = pd.Series([0.3, 0.9, 2.7, 2, 3.5, 5])"
   ]
  },
  {
   "cell_type": "markdown",
   "metadata": {},
   "source": [
    "## 1. Pearson correlation coefficient\n",
    "\n",
    "Measure the correlation between two Gaussian variables.\n",
    "\n",
    "That is, the linear assumption must be satisfied to produce a reasonable measure."
   ]
  },
  {
   "cell_type": "code",
   "execution_count": 52,
   "metadata": {},
   "outputs": [],
   "source": [
    "def corr(x, y, method='pearson'):\n",
    "    x, y, n = np.array(x), np.array(y), len(x)\n",
    "    if method == 'pearson':\n",
    "        cov = ((x - x.mean()) * (y - y.mean()) / n).sum() \n",
    "        return cov / (x.std() * y.std())"
   ]
  },
  {
   "cell_type": "code",
   "execution_count": 53,
   "metadata": {},
   "outputs": [
    {
     "data": {
      "text/plain": [
       "(0.9481366640102854, 0.9481366640102854)"
      ]
     },
     "execution_count": 53,
     "metadata": {},
     "output_type": "execute_result"
    }
   ],
   "source": [
    "x.corr(y, method='pearson'),  corr(x, y, method='pearson')"
   ]
  },
  {
   "cell_type": "markdown",
   "metadata": {},
   "source": [
    "# Any problem? \n",
    "The Pearson correlation is derived from the Gaussian PDF. The equation does not apply when the continuous space is not linear. \n",
    "\n",
    "To derive the correlation indicator of the nonGaussian variable, we first need to find its PDF. However, this is also not easy because not all continuous distribution has a closed-form PDF. One idea is approximating the continuous distribution using the sampling method. Here, each data point considers a sample. We can digitize the sampling space to obtain a discrete distribution."
   ]
  },
  {
   "cell_type": "code",
   "execution_count": 65,
   "metadata": {},
   "outputs": [
    {
     "data": {
      "text/plain": [
       "(0.9481366640102854, 0.9475731981236369)"
      ]
     },
     "execution_count": 65,
     "metadata": {},
     "output_type": "execute_result"
    }
   ],
   "source": [
    "bins = np.linspace(0, 7, 100)\n",
    "x_digit = bins[np.digitize(x, bins=bins)]\n",
    "y_digit = bins[np.digitize(y, bins=bins)]\n",
    "corr(x, y, method='pearson'), corr(x_digit, y_digit, method='pearson')"
   ]
  },
  {
   "cell_type": "markdown",
   "metadata": {},
   "source": [
    "## 1. Spearman correlation coefficient\n",
    "\n",
    "The Spearman correlation also applies the sampling idea, except that the metdod discrete the space using rank\n"
   ]
  },
  {
   "cell_type": "code",
   "execution_count": 46,
   "metadata": {},
   "outputs": [],
   "source": [
    "def corr(x, y, method='pearson'):\n",
    "    \n",
    "    if method == 'pearson':\n",
    "        x, y, n = np.array(x), np.array(y), len(x)\n",
    "        cov = ((x - x.mean()) * (y - y.mean()) / (n-1)).sum() \n",
    "        return cov / (x.std() * y.std())\n",
    "    if method == 'spearman':\n",
    "        n = x.shape[0]\n",
    "        x.index = np.arange(n)\n",
    "        y.index = np.arange(n)\n",
    "        d2 = (x.sort_values().index - y.sort_values().index)**2\n",
    "        sumd2 = d2.values.sum()\n",
    "        return 1-n*sumd2 /(n*(n**2-1))\n",
    "    "
   ]
  },
  {
   "cell_type": "code",
   "execution_count": 47,
   "metadata": {},
   "outputs": [
    {
     "data": {
      "text/plain": [
       "(0.942857142857143, 0.9428571428571428)"
      ]
     },
     "execution_count": 47,
     "metadata": {},
     "output_type": "execute_result"
    }
   ],
   "source": [
    "x.corr(y, method='spearman'), corr(x, y, method='spearman')"
   ]
  }
 ],
 "metadata": {
  "kernelspec": {
   "display_name": "Python 3.8.3 ('py3')",
   "language": "python",
   "name": "python3"
  },
  "language_info": {
   "codemirror_mode": {
    "name": "ipython",
    "version": 3
   },
   "file_extension": ".py",
   "mimetype": "text/x-python",
   "name": "python",
   "nbconvert_exporter": "python",
   "pygments_lexer": "ipython3",
   "version": "3.8.3"
  },
  "orig_nbformat": 4,
  "vscode": {
   "interpreter": {
    "hash": "d7b89e158b719c02a21186c9646700ecf5a8cc5b1b6f738df9b6ffa75e5e74e4"
   }
  }
 },
 "nbformat": 4,
 "nbformat_minor": 2
}
